{
 "cells": [
  {
   "cell_type": "code",
   "execution_count": 1,
   "metadata": {
    "collapsed": true
   },
   "outputs": [
    {
     "name": "stdout",
     "output_type": "stream",
     "text": [
      "Collecting confluent_kafka[avro]==1.4.0\n",
      "  Downloading confluent_kafka-1.4.0-cp37-cp37m-manylinux1_x86_64.whl (8.0 MB)\n",
      "\u001b[K     |████████████████████████████████| 8.0 MB 347 kB/s eta 0:00:01\n",
      "\u001b[?25hRequirement already satisfied: fastavro>=0.23.0; extra == \"avro\" in /home/houssem/anaconda3/lib/python3.7/site-packages (from confluent_kafka[avro]==1.4.0) (0.24.0)\n",
      "Requirement already satisfied: requests; extra == \"avro\" in /home/houssem/anaconda3/lib/python3.7/site-packages (from confluent_kafka[avro]==1.4.0) (2.23.0)\n",
      "Collecting avro-python3==1.9.2.1; python_version >= \"3.0\" and extra == \"avro\"\n",
      "  Downloading avro-python3-1.9.2.1.tar.gz (37 kB)\n",
      "Requirement already satisfied: pytz in /home/houssem/anaconda3/lib/python3.7/site-packages (from fastavro>=0.23.0; extra == \"avro\"->confluent_kafka[avro]==1.4.0) (2019.3)\n",
      "Requirement already satisfied: idna<3,>=2.5 in /home/houssem/anaconda3/lib/python3.7/site-packages (from requests; extra == \"avro\"->confluent_kafka[avro]==1.4.0) (2.9)\n",
      "Requirement already satisfied: urllib3!=1.25.0,!=1.25.1,<1.26,>=1.21.1 in /home/houssem/anaconda3/lib/python3.7/site-packages (from requests; extra == \"avro\"->confluent_kafka[avro]==1.4.0) (1.25.8)\n",
      "Requirement already satisfied: certifi>=2017.4.17 in /home/houssem/anaconda3/lib/python3.7/site-packages (from requests; extra == \"avro\"->confluent_kafka[avro]==1.4.0) (2020.4.5.1)\n",
      "Requirement already satisfied: chardet<4,>=3.0.2 in /home/houssem/anaconda3/lib/python3.7/site-packages (from requests; extra == \"avro\"->confluent_kafka[avro]==1.4.0) (3.0.4)\n",
      "Building wheels for collected packages: avro-python3\n",
      "  Building wheel for avro-python3 (setup.py) ... \u001b[?25ldone\n",
      "\u001b[?25h  Created wheel for avro-python3: filename=avro_python3-1.9.2.1-py3-none-any.whl size=43513 sha256=16425673493f908d1795d55c6d9b92ca9e21ef53f8ed4a928faabf8a3a2ca213\n",
      "  Stored in directory: /home/houssem/.cache/pip/wheels/bc/49/5f/fdb5b9d85055c478213e0158ac122b596816149a02d82e0ab1\n",
      "Successfully built avro-python3\n",
      "Installing collected packages: avro-python3, confluent-kafka\n",
      "  Attempting uninstall: avro-python3\n",
      "    Found existing installation: avro-python3 1.10.0\n",
      "    Uninstalling avro-python3-1.10.0:\n",
      "      Successfully uninstalled avro-python3-1.10.0\n",
      "  Attempting uninstall: confluent-kafka\n",
      "    Found existing installation: confluent-kafka 1.5.0\n",
      "    Uninstalling confluent-kafka-1.5.0:\n",
      "      Successfully uninstalled confluent-kafka-1.5.0\n",
      "Successfully installed avro-python3-1.9.2.1 confluent-kafka-1.4.0\n",
      "\u001b[33mWARNING: You are using pip version 20.0.2; however, version 20.2 is available.\n",
      "You should consider upgrading via the '/home/houssem/anaconda3/bin/python -m pip install --upgrade pip' command.\u001b[0m\n"
     ]
    }
   ],
   "source": [
    "! pip install confluent_kafka[avro]==1.4.0"
   ]
  },
  {
   "cell_type": "code",
   "execution_count": 5,
   "metadata": {},
   "outputs": [
    {
     "ename": "ModuleNotFoundError",
     "evalue": "No module named 'utils'",
     "output_type": "error",
     "traceback": [
      "\u001b[0;31m---------------------------------------------------------------------------\u001b[0m",
      "\u001b[0;31mModuleNotFoundError\u001b[0m                       Traceback (most recent call last)",
      "\u001b[0;32m<ipython-input-5-1b0d8492434e>\u001b[0m in \u001b[0;36m<module>\u001b[0;34m\u001b[0m\n\u001b[1;32m      6\u001b[0m \u001b[0;32mfrom\u001b[0m \u001b[0mconfluent_kafka\u001b[0m\u001b[0;34m.\u001b[0m\u001b[0mavro\u001b[0m \u001b[0;32mimport\u001b[0m \u001b[0mAvroProducer\u001b[0m\u001b[0;34m\u001b[0m\u001b[0;34m\u001b[0m\u001b[0m\n\u001b[1;32m      7\u001b[0m \u001b[0;34m\u001b[0m\u001b[0m\n\u001b[0;32m----> 8\u001b[0;31m \u001b[0;32mfrom\u001b[0m \u001b[0mutils\u001b[0m\u001b[0;34m.\u001b[0m\u001b[0mload_avro_schema_from_file\u001b[0m \u001b[0;32mimport\u001b[0m \u001b[0mload_avro_schema_from_file\u001b[0m\u001b[0;34m\u001b[0m\u001b[0;34m\u001b[0m\u001b[0m\n\u001b[0m\u001b[1;32m      9\u001b[0m \u001b[0;32mfrom\u001b[0m \u001b[0mutils\u001b[0m\u001b[0;34m.\u001b[0m\u001b[0mparse_command_line_args\u001b[0m \u001b[0;32mimport\u001b[0m \u001b[0mparse_command_line_args\u001b[0m\u001b[0;34m\u001b[0m\u001b[0;34m\u001b[0m\u001b[0m\n\u001b[1;32m     10\u001b[0m \u001b[0;34m\u001b[0m\u001b[0m\n",
      "\u001b[0;31mModuleNotFoundError\u001b[0m: No module named 'utils'"
     ]
    }
   ],
   "source": [
    "#!/usr/bin/env python\n",
    "\n",
    "import json\n",
    "import uuid\n",
    "\n",
    "from confluent_kafka.avro import AvroProducer\n",
    "\n",
    "from utils.load_avro_schema_from_file import load_avro_schema_from_file\n",
    "from utils.parse_command_line_args import parse_command_line_args\n",
    "\n",
    "\n",
    "def send_record(args):\n",
    "    key_schema, value_schema = load_avro_schema_from_file(args.schema_file)\n",
    "\n",
    "    producer_config = {\n",
    "        \"bootstrap.servers\": args.bootstrap_servers,\n",
    "        \"schema.registry.url\": args.schema_registry\n",
    "    }\n",
    "\n",
    "    producer = AvroProducer(producer_config, default_key_schema=key_schema, default_value_schema=value_schema)\n",
    "\n",
    "    key = args.record_key if args.record_key else str(uuid.uuid4())\n",
    "    value = json.loads(args.record_value)\n",
    "\n",
    "    try:\n",
    "        producer.produce(topic=args.topic, key=key, value=value)\n",
    "    except Exception as e:\n",
    "        print(f\"Exception while producing record value - {value} to topic - {args.topic}: {e}\")\n",
    "    else:\n",
    "        print(f\"Successfully producing record value - {value} to topic - {args.topic}\")\n",
    "\n",
    "    producer.flush()\n",
    "\n",
    "\n",
    "if __name__ == \"__main__\":\n",
    "    send_record(parse_command_line_args())"
   ]
  },
  {
   "cell_type": "code",
   "execution_count": null,
   "metadata": {},
   "outputs": [],
   "source": []
  }
 ],
 "metadata": {
  "kernelspec": {
   "display_name": "myenv",
   "language": "python",
   "name": "myenv"
  },
  "language_info": {
   "codemirror_mode": {
    "name": "ipython",
    "version": 3
   },
   "file_extension": ".py",
   "mimetype": "text/x-python",
   "name": "python",
   "nbconvert_exporter": "python",
   "pygments_lexer": "ipython3",
   "version": "3.8.2"
  }
 },
 "nbformat": 4,
 "nbformat_minor": 4
}
